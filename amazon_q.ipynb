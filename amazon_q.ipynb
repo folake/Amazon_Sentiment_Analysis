{
 "cells": [
  {
   "cell_type": "code",
   "execution_count": null,
   "id": "17788269-7413-43ea-98d0-ff6e6352b360",
   "metadata": {
    "tags": []
   },
   "outputs": [],
   "source": [
    "import boto3\n",
    "import pandas as pd\n",
    "\n",
    "comprehend_client = boto3.client('comprehend', region_name='us-east-1')\n",
    "\n",
    "# Read CSV file\n",
    "amazon_q_df = pd.read_csv('amazon_q.csv')\n",
    "texts = amazon_q_df['Text']  \n",
    "len(texts)\n"
   ]
  },
  {
   "cell_type": "code",
   "execution_count": 4,
   "id": "1e0d996f-b4bd-45a3-acc6-0a08bff4570d",
   "metadata": {
    "tags": []
   },
   "outputs": [
    {
     "name": "stdout",
     "output_type": "stream",
     "text": [
      "                                                Text  \\\n",
      "0  Amazon Q: A new type of generative AI assistan...   \n",
      "1  Amazon Q can help you get fast, relevant answe...   \n",
      "2  Introducing Amazon Q, a new generative AI-powe...   \n",
      "3  AWS launches Amazon Q, makes its case to be yo...   \n",
      "4  Introducing Amazon Q: the generative AI-powere...   \n",
      "\n",
      "                                           Sentiment  \n",
      "0  [{'Text': 'Amazon Q: A new type of generative ...  \n",
      "1  [{'Text': 'Amazon Q: A new type of generative ...  \n",
      "2  [{'Text': 'Amazon Q: A new type of generative ...  \n",
      "3  [{'Text': 'Amazon Q: A new type of generative ...  \n",
      "4  [{'Text': 'Amazon Q: A new type of generative ...  \n"
     ]
    }
   ],
   "source": [
    "sentiments = []\n",
    "\n",
    "# Analyze text using Amazon Comprehend\n",
    "for text in texts:\n",
    "    sentiment_response = comprehend_client.detect_sentiment(Text=text, LanguageCode='en')\n",
    "    sentiment_scan = sentiment_response['Sentiment']\n",
    "\n",
    "    # Add the text and its corresponding sentiment to the list\n",
    "    sentiments.append({'Text': text, 'Sentiment': sentiments})\n",
    "\n",
    "sentiment_df = pd.DataFrame(sentiments)\n",
    "\n",
    "# Display the DataFrame\n",
    "print(sentiment_df.head())\n"
   ]
  },
  {
   "cell_type": "code",
   "execution_count": null,
   "id": "c83d557a-7c8a-44f1-9adb-c3345a251e94",
   "metadata": {
    "tags": []
   },
   "outputs": [],
   "source": [
    "\n"
   ]
  },
  {
   "cell_type": "code",
   "execution_count": 5,
   "id": "468fc402-7f44-488f-bdc8-5888f10e747c",
   "metadata": {
    "tags": []
   },
   "outputs": [
    {
     "name": "stdout",
     "output_type": "stream",
     "text": [
      "       Mixed  Negative   Neutral  Positive          File  Line Sentiment\n",
      "0   0.000047  0.000175  0.972401  0.027377  amazon_q.csv     2   NEUTRAL\n",
      "1   0.000147  0.000117  0.823304  0.176431  amazon_q.csv     3   NEUTRAL\n",
      "2   0.000035  0.000076  0.997155  0.002734  amazon_q.csv     4   NEUTRAL\n",
      "3   0.000075  0.000984  0.876546  0.122395  amazon_q.csv     5   NEUTRAL\n",
      "4   0.000054  0.000066  0.977568  0.022312  amazon_q.csv     6   NEUTRAL\n",
      "5   0.000022  0.000157  0.973160  0.026661  amazon_q.csv     7   NEUTRAL\n",
      "6   0.000025  0.000087  0.016006  0.983882  amazon_q.csv     8  POSITIVE\n",
      "7   0.000561  0.000228  0.524221  0.474991  amazon_q.csv     9   NEUTRAL\n",
      "8   0.000561  0.000228  0.524221  0.474991  amazon_q.csv    10   NEUTRAL\n",
      "9   0.004764  0.027670  0.281765  0.685801  amazon_q.csv    11  POSITIVE\n",
      "10  0.000066  0.101848  0.897200  0.000886  amazon_q.csv    12   NEUTRAL\n",
      "11  0.000536  0.000425  0.044190  0.954850  amazon_q.csv    13  POSITIVE\n",
      "12  0.000054  0.000499  0.073821  0.925627  amazon_q.csv    14  POSITIVE\n",
      "13  0.000157  0.000719  0.553826  0.445298  amazon_q.csv    15   NEUTRAL\n",
      "14  0.000255  0.004375  0.961924  0.033446  amazon_q.csv    16   NEUTRAL\n",
      "15  0.000097  0.002671  0.989543  0.007689  amazon_q.csv    17   NEUTRAL\n",
      "16  0.096488  0.184338  0.468867  0.250307  amazon_q.csv    18   NEUTRAL\n",
      "17  0.000033  0.000094  0.975676  0.024198  amazon_q.csv    19   NEUTRAL\n",
      "18  0.020394  0.149881  0.591921  0.237804  amazon_q.csv    20   NEUTRAL\n",
      "19  0.000006  0.000114  0.995332  0.004548  amazon_q.csv    21   NEUTRAL\n",
      "20  0.000094  0.000410  0.578181  0.421315  amazon_q.csv    22   NEUTRAL\n",
      "21  0.000009  0.000062  0.998640  0.001289  amazon_q.csv    23   NEUTRAL\n",
      "22  0.000832  0.008402  0.635057  0.355709  amazon_q.csv    24   NEUTRAL\n",
      "23  0.000005  0.000266  0.996211  0.003518  amazon_q.csv    25   NEUTRAL\n",
      "24  0.687337  0.244622  0.000712  0.067329  amazon_q.csv    26     MIXED\n",
      "25  0.000012  0.000773  0.967950  0.031264  amazon_q.csv    27   NEUTRAL\n",
      "26  0.009050  0.011647  0.921135  0.058168  amazon_q.csv    28   NEUTRAL\n",
      "27  0.004049  0.181607  0.809392  0.004952  amazon_q.csv    29   NEUTRAL\n",
      "28  0.006383  0.054076  0.367303  0.572238  amazon_q.csv    30  POSITIVE\n",
      "29  0.000005  0.000261  0.998431  0.001303  amazon_q.csv    31   NEUTRAL\n",
      "30  0.000372  0.260787  0.608456  0.130385  amazon_q.csv    32   NEUTRAL\n",
      "31  0.000132  0.000387  0.449340  0.550140  amazon_q.csv    33  POSITIVE\n",
      "32  0.000004  0.000114  0.998677  0.001205  amazon_q.csv    34   NEUTRAL\n",
      "33  0.000074  0.000310  0.894745  0.104871  amazon_q.csv    35   NEUTRAL\n",
      "34  0.000090  0.000142  0.274575  0.725193  amazon_q.csv    36  POSITIVE\n",
      "35  0.022863  0.846476  0.045873  0.084788  amazon_q.csv    37  NEGATIVE\n",
      "36  0.000004  0.000236  0.997948  0.001812  amazon_q.csv    38   NEUTRAL\n",
      "37  0.000208  0.001026  0.734625  0.264141  amazon_q.csv    39   NEUTRAL\n",
      "38  0.000048  0.000246  0.990194  0.009512  amazon_q.csv    40   NEUTRAL\n",
      "39  0.000175  0.007081  0.360492  0.632252  amazon_q.csv    41  POSITIVE\n",
      "40  0.000010  0.000315  0.991796  0.007880  amazon_q.csv    42   NEUTRAL\n",
      "41  0.000096  0.000369  0.428745  0.570790  amazon_q.csv    43  POSITIVE\n",
      "42  0.000038  0.000679  0.790542  0.208741  amazon_q.csv    44   NEUTRAL\n"
     ]
    }
   ],
   "source": [
    "import boto3\n",
    "import pandas as pd\n",
    "\n",
    "comprehend_client = boto3.client('comprehend')\n",
    "\n",
    "df = pd.read_csv('amazon_q.csv')\n",
    "texts = df['Text'] \n",
    "\n",
    "results = []\n",
    "\n",
    "# Analyze each text with Amazon Comprehend\n",
    "for index, text in enumerate(texts):\n",
    "    # Detect sentiment\n",
    "    sentiment_response = comprehend_client.detect_sentiment(Text=text, LanguageCode='en')\n",
    "    \n",
    "    sentiment_scores = sentiment_response['SentimentScore']\n",
    "    sentiment = sentiment_response['Sentiment']\n",
    "    \n",
    "    # Append the results including the file name and line number\n",
    "    results.append({\n",
    "        'Mixed': sentiment_scores['Mixed'],\n",
    "        'Negative': sentiment_scores['Negative'],\n",
    "        'Neutral': sentiment_scores['Neutral'],\n",
    "        'Positive': sentiment_scores['Positive'],\n",
    "        'File': 'amazon_q.csv',  \n",
    "        'Line': index + 2,  \n",
    "        'Sentiment': sentiment\n",
    "    })\n",
    "\n",
    "# Convert the results list to a DataFrame\n",
    "sentiment_df = pd.DataFrame(results)\n",
    "\n",
    "print(sentiment_df)\n"
   ]
  },
  {
   "cell_type": "code",
   "execution_count": 6,
   "id": "368909c4-b6f6-4503-bfc7-ed209f0abb56",
   "metadata": {
    "tags": []
   },
   "outputs": [
    {
     "data": {
      "text/plain": [
       "Sentiment\n",
       "MIXED        1\n",
       "NEGATIVE     1\n",
       "NEUTRAL     32\n",
       "POSITIVE     9\n",
       "dtype: int64"
      ]
     },
     "execution_count": 6,
     "metadata": {},
     "output_type": "execute_result"
    }
   ],
   "source": [
    "#Visualize these texts by sentiments (mixed, neutral, positive, negative)\n",
    "\n",
    "import seaborn as sns\n",
    "import matplotlib as plt\n",
    "\n",
    "percentage = (sentiment_df.groupby(['Sentiment']).size())\n",
    "percentage"
   ]
  },
  {
   "cell_type": "code",
   "execution_count": 7,
   "id": "c634ce8f-ed85-4f1c-a70b-0d7dbb41f58e",
   "metadata": {
    "tags": []
   },
   "outputs": [
    {
     "name": "stderr",
     "output_type": "stream",
     "text": [
      "/tmp/ipykernel_503/1589608015.py:14: FutureWarning: \n",
      "\n",
      "Passing `palette` without assigning `hue` is deprecated and will be removed in v0.14.0. Assign the `x` variable to `hue` and set `legend=False` for the same effect.\n",
      "\n",
      "  sns.barplot(x='Sentiment', y='Percentage', data=percentage_new, palette='hls')\n"
     ]
    },
    {
     "data": {
      "image/png": "[encoded data removed]",
      "text/plain": [
       "<Figure size 640x480 with 1 Axes>"
      ]
     },
     "metadata": {},
     "output_type": "display_data"
    }
   ],
   "source": [
    "import seaborn as sns\n",
    "import matplotlib.pyplot as plt\n",
    "\n",
    "\n",
    "# Calculate the percentage of each sentiment\n",
    "percentage_new = (sentiment_df['Sentiment'].value_counts(normalize=True) * 100).reset_index()\n",
    "percentage_new.columns = ['Sentiment', 'Percentage']  \n",
    "\n",
    "# Create a bar plot using Seaborn\n",
    "sns.barplot(x='Sentiment', y='Percentage', data=percentage_new, palette='hls')\n",
    "\n",
    "plt.xlabel('Sentiment')\n",
    "plt.ylabel('Percentage')\n",
    "plt.title('Percentage of Texts by Sentiment')\n",
    "\n",
    "plt.show()\n"
   ]
  },
  {
   "cell_type": "code",
   "execution_count": 13,
   "id": "4dd946e5-e15a-4092-a5f6-996aca2ab3c2",
   "metadata": {
    "tags": []
   },
   "outputs": [
    {
     "data": {
      "image/png": "[encoded data removed]",
      "text/plain": [
       "<Figure size 800x800 with 1 Axes>"
      ]
     },
     "metadata": {},
     "output_type": "display_data"
    }
   ],
   "source": [
    "# Adjusting the explode parameter to match the number of unique sentiment categories in the data\n",
    "unique_sentiments = sentiment_df['Sentiment'].nunique()\n",
    "explode = [0.1 if i == 0 else 0 for i in range(unique_sentiments)]\n",
    "\n",
    "plt.figure(figsize=(8, 8))\n",
    "plt.pie(percentage_new['Percentage'], labels=percentage_new['Sentiment'], autopct='%1.1f%%', startangle=140, explode=explode)\n",
    "plt.title('Percentage of Tweets by Sentiment')\n",
    "\n",
    "plt.show()\n"
   ]
  },
  {
   "cell_type": "code",
   "execution_count": null,
   "id": "cece0ed9-9776-4dc9-82eb-d355f914ad4e",
   "metadata": {},
   "outputs": [],
   "source": []
  },
  {
   "cell_type": "code",
   "execution_count": null,
   "id": "a4565ccf-fc84-4f7e-b2ae-eabd19f809d9",
   "metadata": {},
   "outputs": [],
   "source": []
  }
 ],
 "metadata": {
  "availableInstances": [
   {
    "_defaultOrder": 0,
    "_isFastLaunch": true,
    "category": "General purpose",
    "gpuNum": 0,
    "hideHardwareSpecs": false,
    "memoryGiB": 4,
    "name": "ml.t3.medium",
    "vcpuNum": 2
   },
   {
    "_defaultOrder": 1,
    "_isFastLaunch": false,
    "category": "General purpose",
    "gpuNum": 0,
    "hideHardwareSpecs": false,
    "memoryGiB": 8,
    "name": "ml.t3.large",
    "vcpuNum": 2
   },
   {
    "_defaultOrder": 2,
    "_isFastLaunch": false,
    "category": "General purpose",
    "gpuNum": 0,
    "hideHardwareSpecs": false,
    "memoryGiB": 16,
    "name": "ml.t3.xlarge",
    "vcpuNum": 4
   },
   {
    "_defaultOrder": 3,
    "_isFastLaunch": false,
    "category": "General purpose",
    "gpuNum": 0,
    "hideHardwareSpecs": false,
    "memoryGiB": 32,
    "name": "ml.t3.2xlarge",
    "vcpuNum": 8
   },
   {
    "_defaultOrder": 4,
    "_isFastLaunch": true,
    "category": "General purpose",
    "gpuNum": 0,
    "hideHardwareSpecs": false,
    "memoryGiB": 8,
    "name": "ml.m5.large",
    "vcpuNum": 2
   },
   {
    "_defaultOrder": 5,
    "_isFastLaunch": false,
    "category": "General purpose",
    "gpuNum": 0,
    "hideHardwareSpecs": false,
    "memoryGiB": 16,
    "name": "ml.m5.xlarge",
    "vcpuNum": 4
   },
   {
    "_defaultOrder": 6,
    "_isFastLaunch": false,
    "category": "General purpose",
    "gpuNum": 0,
    "hideHardwareSpecs": false,
    "memoryGiB": 32,
    "name": "ml.m5.2xlarge",
    "vcpuNum": 8
   },
   {
    "_defaultOrder": 7,
    "_isFastLaunch": false,
    "category": "General purpose",
    "gpuNum": 0,
    "hideHardwareSpecs": false,
    "memoryGiB": 64,
    "name": "ml.m5.4xlarge",
    "vcpuNum": 16
   },
   {
    "_defaultOrder": 8,
    "_isFastLaunch": false,
    "category": "General purpose",
    "gpuNum": 0,
    "hideHardwareSpecs": false,
    "memoryGiB": 128,
    "name": "ml.m5.8xlarge",
    "vcpuNum": 32
   },
   {
    "_defaultOrder": 9,
    "_isFastLaunch": false,
    "category": "General purpose",
    "gpuNum": 0,
    "hideHardwareSpecs": false,
    "memoryGiB": 192,
    "name": "ml.m5.12xlarge",
    "vcpuNum": 48
   },
   {
    "_defaultOrder": 10,
    "_isFastLaunch": false,
    "category": "General purpose",
    "gpuNum": 0,
    "hideHardwareSpecs": false,
    "memoryGiB": 256,
    "name": "ml.m5.16xlarge",
    "vcpuNum": 64
   },
   {
    "_defaultOrder": 11,
    "_isFastLaunch": false,
    "category": "General purpose",
    "gpuNum": 0,
    "hideHardwareSpecs": false,
    "memoryGiB": 384,
    "name": "ml.m5.24xlarge",
    "vcpuNum": 96
   },
   {
    "_defaultOrder": 12,
    "_isFastLaunch": false,
    "category": "General purpose",
    "gpuNum": 0,
    "hideHardwareSpecs": false,
    "memoryGiB": 8,
    "name": "ml.m5d.large",
    "vcpuNum": 2
   },
   {
    "_defaultOrder": 13,
    "_isFastLaunch": false,
    "category": "General purpose",
    "gpuNum": 0,
    "hideHardwareSpecs": false,
    "memoryGiB": 16,
    "name": "ml.m5d.xlarge",
    "vcpuNum": 4
   },
   {
    "_defaultOrder": 14,
    "_isFastLaunch": false,
    "category": "General purpose",
    "gpuNum": 0,
    "hideHardwareSpecs": false,
    "memoryGiB": 32,
    "name": "ml.m5d.2xlarge",
    "vcpuNum": 8
   },
   {
    "_defaultOrder": 15,
    "_isFastLaunch": false,
    "category": "General purpose",
    "gpuNum": 0,
    "hideHardwareSpecs": false,
    "memoryGiB": 64,
    "name": "ml.m5d.4xlarge",
    "vcpuNum": 16
   },
   {
    "_defaultOrder": 16,
    "_isFastLaunch": false,
    "category": "General purpose",
    "gpuNum": 0,
    "hideHardwareSpecs": false,
    "memoryGiB": 128,
    "name": "ml.m5d.8xlarge",
    "vcpuNum": 32
   },
   {
    "_defaultOrder": 17,
    "_isFastLaunch": false,
    "category": "General purpose",
    "gpuNum": 0,
    "hideHardwareSpecs": false,
    "memoryGiB": 192,
    "name": "ml.m5d.12xlarge",
    "vcpuNum": 48
   },
   {
    "_defaultOrder": 18,
    "_isFastLaunch": false,
    "category": "General purpose",
    "gpuNum": 0,
    "hideHardwareSpecs": false,
    "memoryGiB": 256,
    "name": "ml.m5d.16xlarge",
    "vcpuNum": 64
   },
   {
    "_defaultOrder": 19,
    "_isFastLaunch": false,
    "category": "General purpose",
    "gpuNum": 0,
    "hideHardwareSpecs": false,
    "memoryGiB": 384,
    "name": "ml.m5d.24xlarge",
    "vcpuNum": 96
   },
   {
    "_defaultOrder": 20,
    "_isFastLaunch": false,
    "category": "General purpose",
    "gpuNum": 0,
    "hideHardwareSpecs": true,
    "memoryGiB": 0,
    "name": "ml.geospatial.interactive",
    "supportedImageNames": [
     "sagemaker-geospatial-v1-0"
    ],
    "vcpuNum": 0
   },
   {
    "_defaultOrder": 21,
    "_isFastLaunch": true,
    "category": "Compute optimized",
    "gpuNum": 0,
    "hideHardwareSpecs": false,
    "memoryGiB": 4,
    "name": "ml.c5.large",
    "vcpuNum": 2
   },
   {
    "_defaultOrder": 22,
    "_isFastLaunch": false,
    "category": "Compute optimized",
    "gpuNum": 0,
    "hideHardwareSpecs": false,
    "memoryGiB": 8,
    "name": "ml.c5.xlarge",
    "vcpuNum": 4
   },
   {
    "_defaultOrder": 23,
    "_isFastLaunch": false,
    "category": "Compute optimized",
    "gpuNum": 0,
    "hideHardwareSpecs": false,
    "memoryGiB": 16,
    "name": "ml.c5.2xlarge",
    "vcpuNum": 8
   },
   {
    "_defaultOrder": 24,
    "_isFastLaunch": false,
    "category": "Compute optimized",
    "gpuNum": 0,
    "hideHardwareSpecs": false,
    "memoryGiB": 32,
    "name": "ml.c5.4xlarge",
    "vcpuNum": 16
   },
   {
    "_defaultOrder": 25,
    "_isFastLaunch": false,
    "category": "Compute optimized",
    "gpuNum": 0,
    "hideHardwareSpecs": false,
    "memoryGiB": 72,
    "name": "ml.c5.9xlarge",
    "vcpuNum": 36
   },
   {
    "_defaultOrder": 26,
    "_isFastLaunch": false,
    "category": "Compute optimized",
    "gpuNum": 0,
    "hideHardwareSpecs": false,
    "memoryGiB": 96,
    "name": "ml.c5.12xlarge",
    "vcpuNum": 48
   },
   {
    "_defaultOrder": 27,
    "_isFastLaunch": false,
    "category": "Compute optimized",
    "gpuNum": 0,
    "hideHardwareSpecs": false,
    "memoryGiB": 144,
    "name": "ml.c5.18xlarge",
    "vcpuNum": 72
   },
   {
    "_defaultOrder": 28,
    "_isFastLaunch": false,
    "category": "Compute optimized",
    "gpuNum": 0,
    "hideHardwareSpecs": false,
    "memoryGiB": 192,
    "name": "ml.c5.24xlarge",
    "vcpuNum": 96
   },
   {
    "_defaultOrder": 29,
    "_isFastLaunch": true,
    "category": "Accelerated computing",
    "gpuNum": 1,
    "hideHardwareSpecs": false,
    "memoryGiB": 16,
    "name": "ml.g4dn.xlarge",
    "vcpuNum": 4
   },
   {
    "_defaultOrder": 30,
    "_isFastLaunch": false,
    "category": "Accelerated computing",
    "gpuNum": 1,
    "hideHardwareSpecs": false,
    "memoryGiB": 32,
    "name": "ml.g4dn.2xlarge",
    "vcpuNum": 8
   },
   {
    "_defaultOrder": 31,
    "_isFastLaunch": false,
    "category": "Accelerated computing",
    "gpuNum": 1,
    "hideHardwareSpecs": false,
    "memoryGiB": 64,
    "name": "ml.g4dn.4xlarge",
    "vcpuNum": 16
   },
   {
    "_defaultOrder": 32,
    "_isFastLaunch": false,
    "category": "Accelerated computing",
    "gpuNum": 1,
    "hideHardwareSpecs": false,
    "memoryGiB": 128,
    "name": "ml.g4dn.8xlarge",
    "vcpuNum": 32
   },
   {
    "_defaultOrder": 33,
    "_isFastLaunch": false,
    "category": "Accelerated computing",
    "gpuNum": 4,
    "hideHardwareSpecs": false,
    "memoryGiB": 192,
    "name": "ml.g4dn.12xlarge",
    "vcpuNum": 48
   },
   {
    "_defaultOrder": 34,
    "_isFastLaunch": false,
    "category": "Accelerated computing",
    "gpuNum": 1,
    "hideHardwareSpecs": false,
    "memoryGiB": 256,
    "name": "ml.g4dn.16xlarge",
    "vcpuNum": 64
   },
   {
    "_defaultOrder": 35,
    "_isFastLaunch": false,
    "category": "Accelerated computing",
    "gpuNum": 1,
    "hideHardwareSpecs": false,
    "memoryGiB": 61,
    "name": "ml.p3.2xlarge",
    "vcpuNum": 8
   },
   {
    "_defaultOrder": 36,
    "_isFastLaunch": false,
    "category": "Accelerated computing",
    "gpuNum": 4,
    "hideHardwareSpecs": false,
    "memoryGiB": 244,
    "name": "ml.p3.8xlarge",
    "vcpuNum": 32
   },
   {
    "_defaultOrder": 37,
    "_isFastLaunch": false,
    "category": "Accelerated computing",
    "gpuNum": 8,
    "hideHardwareSpecs": false,
    "memoryGiB": 488,
    "name": "ml.p3.16xlarge",
    "vcpuNum": 64
   },
   {
    "_defaultOrder": 38,
    "_isFastLaunch": false,
    "category": "Accelerated computing",
    "gpuNum": 8,
    "hideHardwareSpecs": false,
    "memoryGiB": 768,
    "name": "ml.p3dn.24xlarge",
    "vcpuNum": 96
   },
   {
    "_defaultOrder": 39,
    "_isFastLaunch": false,
    "category": "Memory Optimized",
    "gpuNum": 0,
    "hideHardwareSpecs": false,
    "memoryGiB": 16,
    "name": "ml.r5.large",
    "vcpuNum": 2
   },
   {
    "_defaultOrder": 40,
    "_isFastLaunch": false,
    "category": "Memory Optimized",
    "gpuNum": 0,
    "hideHardwareSpecs": false,
    "memoryGiB": 32,
    "name": "ml.r5.xlarge",
    "vcpuNum": 4
   },
   {
    "_defaultOrder": 41,
    "_isFastLaunch": false,
    "category": "Memory Optimized",
    "gpuNum": 0,
    "hideHardwareSpecs": false,
    "memoryGiB": 64,
    "name": "ml.r5.2xlarge",
    "vcpuNum": 8
   },
   {
    "_defaultOrder": 42,
    "_isFastLaunch": false,
    "category": "Memory Optimized",
    "gpuNum": 0,
    "hideHardwareSpecs": false,
    "memoryGiB": 128,
    "name": "ml.r5.4xlarge",
    "vcpuNum": 16
   },
   {
    "_defaultOrder": 43,
    "_isFastLaunch": false,
    "category": "Memory Optimized",
    "gpuNum": 0,
    "hideHardwareSpecs": false,
    "memoryGiB": 256,
    "name": "ml.r5.8xlarge",
    "vcpuNum": 32
   },
   {
    "_defaultOrder": 44,
    "_isFastLaunch": false,
    "category": "Memory Optimized",
    "gpuNum": 0,
    "hideHardwareSpecs": false,
    "memoryGiB": 384,
    "name": "ml.r5.12xlarge",
    "vcpuNum": 48
   },
   {
    "_defaultOrder": 45,
    "_isFastLaunch": false,
    "category": "Memory Optimized",
    "gpuNum": 0,
    "hideHardwareSpecs": false,
    "memoryGiB": 512,
    "name": "ml.r5.16xlarge",
    "vcpuNum": 64
   },
   {
    "_defaultOrder": 46,
    "_isFastLaunch": false,
    "category": "Memory Optimized",
    "gpuNum": 0,
    "hideHardwareSpecs": false,
    "memoryGiB": 768,
    "name": "ml.r5.24xlarge",
    "vcpuNum": 96
   },
   {
    "_defaultOrder": 47,
    "_isFastLaunch": false,
    "category": "Accelerated computing",
    "gpuNum": 1,
    "hideHardwareSpecs": false,
    "memoryGiB": 16,
    "name": "ml.g5.xlarge",
    "vcpuNum": 4
   },
   {
    "_defaultOrder": 48,
    "_isFastLaunch": false,
    "category": "Accelerated computing",
    "gpuNum": 1,
    "hideHardwareSpecs": false,
    "memoryGiB": 32,
    "name": "ml.g5.2xlarge",
    "vcpuNum": 8
   },
   {
    "_defaultOrder": 49,
    "_isFastLaunch": false,
    "category": "Accelerated computing",
    "gpuNum": 1,
    "hideHardwareSpecs": false,
    "memoryGiB": 64,
    "name": "ml.g5.4xlarge",
    "vcpuNum": 16
   },
   {
    "_defaultOrder": 50,
    "_isFastLaunch": false,
    "category": "Accelerated computing",
    "gpuNum": 1,
    "hideHardwareSpecs": false,
    "memoryGiB": 128,
    "name": "ml.g5.8xlarge",
    "vcpuNum": 32
   },
   {
    "_defaultOrder": 51,
    "_isFastLaunch": false,
    "category": "Accelerated computing",
    "gpuNum": 1,
    "hideHardwareSpecs": false,
    "memoryGiB": 256,
    "name": "ml.g5.16xlarge",
    "vcpuNum": 64
   },
   {
    "_defaultOrder": 52,
    "_isFastLaunch": false,
    "category": "Accelerated computing",
    "gpuNum": 4,
    "hideHardwareSpecs": false,
    "memoryGiB": 192,
    "name": "ml.g5.12xlarge",
    "vcpuNum": 48
   },
   {
    "_defaultOrder": 53,
    "_isFastLaunch": false,
    "category": "Accelerated computing",
    "gpuNum": 4,
    "hideHardwareSpecs": false,
    "memoryGiB": 384,
    "name": "ml.g5.24xlarge",
    "vcpuNum": 96
   },
   {
    "_defaultOrder": 54,
    "_isFastLaunch": false,
    "category": "Accelerated computing",
    "gpuNum": 8,
    "hideHardwareSpecs": false,
    "memoryGiB": 768,
    "name": "ml.g5.48xlarge",
    "vcpuNum": 192
   },
   {
    "_defaultOrder": 55,
    "_isFastLaunch": false,
    "category": "Accelerated computing",
    "gpuNum": 8,
    "hideHardwareSpecs": false,
    "memoryGiB": 1152,
    "name": "ml.p4d.24xlarge",
    "vcpuNum": 96
   },
   {
    "_defaultOrder": 56,
    "_isFastLaunch": false,
    "category": "Accelerated computing",
    "gpuNum": 8,
    "hideHardwareSpecs": false,
    "memoryGiB": 1152,
    "name": "ml.p4de.24xlarge",
    "vcpuNum": 96
   }
  ],
  "kernelspec": {
   "display_name": "Python 3 (Base Python 2.0)",
   "language": "python",
   "name": "python3__SAGEMAKER_INTERNAL__arn:aws:sagemaker:us-east-1:081325390199:image/sagemaker-base-python-38"
  },
  "language_info": {
   "codemirror_mode": {
    "name": "ipython",
    "version": 3
   },
   "file_extension": ".py",
   "mimetype": "text/x-python",
   "name": "python",
   "nbconvert_exporter": "python",
   "pygments_lexer": "ipython3",
   "version": "3.8.12"
  }
 },
 "nbformat": 4,
 "nbformat_minor": 5
}
